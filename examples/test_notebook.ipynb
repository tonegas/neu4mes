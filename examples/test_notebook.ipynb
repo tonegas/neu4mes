{
 "cells": [
  {
   "cell_type": "code",
   "id": "initial_id",
   "metadata": {
    "collapsed": true,
    "ExecuteTime": {
     "end_time": "2024-10-23T15:57:28.385377Z",
     "start_time": "2024-10-23T15:57:27.490607Z"
    }
   },
   "source": [
    "import numpy as np\n",
    "\n",
    "import neu4mes\n",
    "from neu4mes import *\n",
    "from neu4mes import relation"
   ],
   "execution_count": 1,
   "outputs": []
  },
  {
   "metadata": {
    "ExecuteTime": {
     "end_time": "2024-10-23T15:57:28.388549Z",
     "start_time": "2024-10-23T15:57:28.386662Z"
    }
   },
   "cell_type": "code",
   "source": [
    "def fun(x,K):\n",
    "    return x**2+x*K"
   ],
   "id": "bd4ddee22780e5be",
   "execution_count": 2,
   "outputs": []
  },
  {
   "metadata": {},
   "cell_type": "markdown",
   "source": "",
   "id": "2a6b76c1c2c79973"
  },
  {
   "metadata": {
    "ExecuteTime": {
     "end_time": "2024-10-23T15:57:28.394580Z",
     "start_time": "2024-10-23T15:57:28.389332Z"
    }
   },
   "cell_type": "code",
   "source": [
    "relation.CHECK_NAMES = False\n",
    "v = Input('v')\n",
    "out1 = Output('out1',ParamFun(fun)(Fir(v.last())))\n",
    "out2 = Output('out2',Linear(Fuzzify(centers=[-3,0,5])(Fir(v.last()))))\n",
    "relation.CHECK_NAMES = True"
   ],
   "id": "931872441251022c",
   "execution_count": 3,
   "outputs": []
  },
  {
   "metadata": {
    "ExecuteTime": {
     "end_time": "2024-10-23T15:57:28.407455Z",
     "start_time": "2024-10-23T15:57:28.395915Z"
    }
   },
   "cell_type": "code",
   "source": [
    "n = Neu4mes(MPLNotebookVisualizer())\n",
    "n.addModel('model',[out1,out2])\n",
    "n.addMinimize('err1',v.next(),out1)\n",
    "n.addMinimize('err2',v.last(),out2)\n",
    "n.neuralizeModel(1)"
   ],
   "id": "219bd8d263bea644",
   "execution_count": 4,
   "outputs": []
  },
  {
   "metadata": {
    "ExecuteTime": {
     "end_time": "2024-10-23T15:57:28.410042Z",
     "start_time": "2024-10-23T15:57:28.408269Z"
    }
   },
   "cell_type": "code",
   "source": "n.visualizer.showFunctions(['FParamFun9'])",
   "id": "19c1964cf6b9d7fb",
   "execution_count": 5,
   "outputs": []
  },
  {
   "metadata": {
    "ExecuteTime": {
     "end_time": "2024-10-23T15:57:28.412654Z",
     "start_time": "2024-10-23T15:57:28.410677Z"
    }
   },
   "cell_type": "code",
   "source": [
    "data = {'v':np.linspace(1,10,num=100).tolist()}\n",
    "n.loadData('train',data)"
   ],
   "id": "30956c080b6419a1",
   "execution_count": 6,
   "outputs": []
  },
  {
   "metadata": {
    "ExecuteTime": {
     "end_time": "2024-10-23T15:57:29.999034Z",
     "start_time": "2024-10-23T15:57:28.413279Z"
    }
   },
   "cell_type": "code",
   "source": "n.trainModel()",
   "id": "8c0102ca0c61b2c4",
   "execution_count": 7,
   "outputs": []
  },
  {
   "metadata": {},
   "cell_type": "markdown",
   "source": "",
   "id": "6c7d7c6dec2f165"
  },
  {
   "metadata": {
    "ExecuteTime": {
     "end_time": "2024-10-23T15:57:30.132273Z",
     "start_time": "2024-10-23T15:57:30.000055Z"
    }
   },
   "cell_type": "code",
   "source": "n.visualizer.showFunctions(list(n.model_def['Functions'].keys()))",
   "id": "df2e743266e2d508",
   "execution_count": 8,
   "outputs": []
  }
 ],
 "metadata": {
  "kernelspec": {
   "display_name": "Python 3",
   "language": "python",
   "name": "python3"
  },
  "language_info": {
   "codemirror_mode": {
    "name": "ipython",
    "version": 2
   },
   "file_extension": ".py",
   "mimetype": "text/x-python",
   "name": "python",
   "nbconvert_exporter": "python",
   "pygments_lexer": "ipython2",
   "version": "2.7.6"
  }
 },
 "nbformat": 4,
 "nbformat_minor": 5
}
